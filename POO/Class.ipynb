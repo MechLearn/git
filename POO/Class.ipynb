{
 "cells": [
  {
   "cell_type": "markdown",
   "metadata": {},
   "source": [
    "# Class Examples\n",
    "* Constructor: This element allow us  to initialize a object"
   ]
  },
  {
   "cell_type": "code",
   "execution_count": 2,
   "metadata": {},
   "outputs": [
    {
     "name": "stdout",
     "output_type": "stream",
     "text": [
      "Hello\n",
      "Hello22\n"
     ]
    }
   ],
   "source": [
    "class MyClass():\n",
    "    \n",
    "    def __init__(self,a):\n",
    "        self.a = a\n",
    "    def func(self):\n",
    "        print(self.a)\n",
    "        \n",
    "x = MyClass('Hello')\n",
    "x.func()\n",
    "\n",
    "y = MyClass('Hello22')\n",
    "y.func()          "
   ]
  },
  {
   "cell_type": "markdown",
   "metadata": {},
   "source": [
    "* Normal Structure (without Constructor):"
   ]
  },
  {
   "cell_type": "code",
   "execution_count": 6,
   "metadata": {},
   "outputs": [
    {
     "name": "stdout",
     "output_type": "stream",
     "text": [
      "Hello Hello22\n"
     ]
    }
   ],
   "source": [
    "class MyClass:\n",
    "    a = 'Hello'\n",
    "    b = 'Hello22'\n",
    "    \n",
    "    def func(self):\n",
    "        print(self.a, self.b)\n",
    "\n",
    "\n",
    "myClass = MyClass()\n",
    "\n",
    "myClass.func()\n",
    "        \n",
    "        \n"
   ]
  },
  {
   "cell_type": "markdown",
   "metadata": {},
   "source": [
    "* Operators Overload\n"
   ]
  },
  {
   "cell_type": "code",
   "execution_count": 12,
   "metadata": {},
   "outputs": [
    {
     "name": "stdout",
     "output_type": "stream",
     "text": [
      "The value of a is 2\n"
     ]
    }
   ],
   "source": [
    "class MyClass:\n",
    "    #Constructor\n",
    "    \n",
    "    def __init__(self,a):\n",
    "        self.a = a\n",
    "    \n",
    "    #Overload in Sum\n",
    "    \n",
    "    def __add__(self,other):\n",
    "        return self.a + other.a    \n",
    "    \n",
    "    #Overload in String (We controlled that do any print)\n",
    "    \n",
    "    def __str__(self):\n",
    "        return f'The value of a is {self.a}'\n",
    "\n",
    "\n",
    "x = MyClass(2)\n",
    "print(x)        \n",
    "        "
   ]
  },
  {
   "cell_type": "markdown",
   "metadata": {},
   "source": [
    "* Call Operator"
   ]
  },
  {
   "cell_type": "code",
   "execution_count": 18,
   "metadata": {},
   "outputs": [
    {
     "name": "stdout",
     "output_type": "stream",
     "text": [
      "16\n"
     ]
    }
   ],
   "source": [
    "class MyClass:\n",
    "    \n",
    "    def __init__(self,a):\n",
    "        self.a = a\n",
    "    \n",
    "    def __call__(self,exp):\n",
    "        return self.a**exp    \n",
    "    \n",
    "x = MyClass(2)\n",
    "print(x(4))"
   ]
  }
 ],
 "metadata": {
  "kernelspec": {
   "display_name": "Python 3",
   "language": "python",
   "name": "python3"
  },
  "language_info": {
   "codemirror_mode": {
    "name": "ipython",
    "version": 3
   },
   "file_extension": ".py",
   "mimetype": "text/x-python",
   "name": "python",
   "nbconvert_exporter": "python",
   "pygments_lexer": "ipython3",
   "version": "3.10.12"
  }
 },
 "nbformat": 4,
 "nbformat_minor": 2
}
